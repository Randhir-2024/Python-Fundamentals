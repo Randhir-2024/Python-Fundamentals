{
 "cells": [
  {
   "cell_type": "markdown",
   "metadata": {},
   "source": [
    "Program to add two numbers in Python"
   ]
  },
  {
   "cell_type": "code",
   "execution_count": 18,
   "metadata": {},
   "outputs": [
    {
     "ename": "ValueError",
     "evalue": "invalid literal for int() with base 10: ''",
     "output_type": "error",
     "traceback": [
      "\u001b[0;31m---------------------------------------------------------------------------\u001b[0m",
      "\u001b[0;31mValueError\u001b[0m                                Traceback (most recent call last)",
      "Cell \u001b[0;32mIn[18], line 1\u001b[0m\n\u001b[0;32m----> 1\u001b[0m a \u001b[38;5;241m=\u001b[39m \u001b[38;5;28;43mint\u001b[39;49m\u001b[43m(\u001b[49m\u001b[38;5;28;43minput\u001b[39;49m\u001b[43m(\u001b[49m\u001b[38;5;124;43m'\u001b[39;49m\u001b[38;5;124;43mEnter the second number : \u001b[39;49m\u001b[38;5;124;43m'\u001b[39;49m\u001b[43m)\u001b[49m\u001b[43m)\u001b[49m\n\u001b[1;32m      2\u001b[0m b \u001b[38;5;241m=\u001b[39m \u001b[38;5;28mint\u001b[39m(\u001b[38;5;28minput\u001b[39m(\u001b[38;5;124m'\u001b[39m\u001b[38;5;124mEnter the second number : \u001b[39m\u001b[38;5;124m'\u001b[39m))\n\u001b[1;32m      4\u001b[0m \u001b[38;5;28mprint\u001b[39m(\u001b[38;5;124mf\u001b[39m\u001b[38;5;124m'\u001b[39m\u001b[38;5;124mSum of \u001b[39m\u001b[38;5;132;01m{\u001b[39;00ma\u001b[38;5;132;01m}\u001b[39;00m\u001b[38;5;124m and \u001b[39m\u001b[38;5;132;01m{\u001b[39;00mb\u001b[38;5;132;01m}\u001b[39;00m\u001b[38;5;124m is \u001b[39m\u001b[38;5;132;01m{\u001b[39;00ma\u001b[38;5;241m+\u001b[39mb\u001b[38;5;132;01m}\u001b[39;00m\u001b[38;5;124m'\u001b[39m)\n",
      "\u001b[0;31mValueError\u001b[0m: invalid literal for int() with base 10: ''"
     ]
    }
   ],
   "source": [
    "a = int(input('Enter the second number : '))\n",
    "b = int(input('Enter the second number : '))\n",
    "\n",
    "print(f'Sum of {a} and {b} is {a+b}')\n"
   ]
  },
  {
   "cell_type": "markdown",
   "metadata": {},
   "source": [
    "print Hello World"
   ]
  },
  {
   "cell_type": "code",
   "execution_count": null,
   "metadata": {},
   "outputs": [
    {
     "name": "stdout",
     "output_type": "stream",
     "text": [
      "Hello World\n"
     ]
    }
   ],
   "source": [
    "print('Hello World')"
   ]
  },
  {
   "cell_type": "markdown",
   "metadata": {},
   "source": [
    "* find the square root\n",
    "* Calculate the Area of a Triangle\n",
    "* Solve Quadratic Equation\n",
    "* Swap Two Variables\n",
    "* Generate a Random Number\n",
    "* Convert Kilometers to Miles\n",
    "\n",
    "* Convert Celsius To Fahrenheit\n",
    "* Check if a Number is Positive, Negative or 0\n",
    "* Check if a Number is Odd or Even\n",
    "* Check Leap Year\n",
    "* Find the Largest Among Three Numbers\n",
    "* Check Prime Number\n",
    "\n",
    "\n",
    "* Print all Prime Numbers in an Interval\n",
    "* Find the Factorial of a Number\n",
    "* Display the multiplication Table\n",
    "* Print the Fibonacci sequence\n",
    "* Check Armstrong Number\n",
    "* Find Armstrong Number in an Interval\n",
    "* Find the Sum of Natural Numbers\n",
    "*  Display Powers of 2 Using Anonymous Function\n",
    "\n",
    "\n",
    "* Find Numbers Divisible by Another Number\n",
    "* Convert Decimal to Binary, Octal and Hexadecimal\n",
    "* Find ASCII Value of Character\n",
    "* Find HCF or GCD\n",
    "* Find the Factors of a Number\n",
    "* Make a Simple Calculator\n",
    "* Shuffle Deck of Cards\n",
    "* Display Calendar\n",
    "* Display Fibonacci Sequence Using Recursion\n",
    "* Find Sum of Natural Numbers Using Recursion\n",
    "* Find Factorial of Number Using Recursion\n",
    "* Convert Decimal to Binary Using Recursion\n",
    "* Add Two Matrices\n",
    "* Transpose a Matrix\n",
    "* Multiply Two Matrices\n",
    "* Check Whether a String is Palindrome or Not\n",
    "*  Remove Punctuations From a String\n",
    "* Sort Words in Alphabetic Order\n",
    "* Illustrate Different Set Operations\n",
    "* Count the Number of Each Vowel\n",
    "* Find the Size (Resolution) of a Image\n",
    "*  Merge Two Dictionaries\n",
    "* Safely Create a Nested Directory\n",
    "* Access Index of a List Using for Loop\n",
    "* Slice Lists\n",
    "* Iterate Over Dictionaries Using for Loop\n",
    "* Sort a Dictionary by Value\n",
    "* Check If a List is Empty\n",
    "* Catch Multiple Exceptions in One Line\n",
    "* Copy a File\n",
    "* Concatenate Two Lists\n",
    "* Check if a Key is Already Present in a Dictionary\n",
    "* Parse a String to a Float or Int\n",
    "* Convert String to Datetime\n",
    "* Get the Last Element of the List\n",
    "* Get a Substring of a String\n",
    "* Print Output Without a Newline\n",
    "* Read a File Line by Line Into a List\n",
    "* Randomly Select an Element From the List\n",
    "* Check If a String Is a Number (Float)\n",
    "* Count the Occurrence of an Item in a List\n",
    "* Append to a File\n",
    "* Delete an Element From a Dictionary\n",
    "* Create a Long Multiline String\n",
    "* Extract Extension From the File Name\n",
    "* Measure the Elapsed Time in Python\n",
    "* Get the Class Name of an Instance\n",
    "* Convert Two Lists Into a Dictionary\n",
    "* Differentiate Between type() and isinstance()\n",
    "* Trim Whitespace From a String\n",
    "* Get the File Name From the File Path\n",
    "* Represent enum\n",
    "* Return Multiple Values From a Function\n",
    "* Get Line Count of a File\n",
    "* Find All File with .txt Extension Present Inside a Directory\n",
    "* Get the Full Path of the Current Working Directory\n",
    "* Iterate Through Two Lists in Parallel\n",
    "* Check the File Size\n",
    "* Reverse a Number\n",
    "* Compute the Power of a Number\n",
    "* Count the Number of Digits Present In a Number\n",
    "* Check If Two Strings are Anagram\n",
    "* Capitalize the First Character of a String\n",
    "* Create a Countdown Timer\n",
    "* Count the Number of Occurrence of a Character in String\n",
    "* Remove Duplicate Element From a List\n",
    "* Convert Bytes to a String"
   ]
  },
  {
   "cell_type": "markdown",
   "metadata": {},
   "source": []
  },
  {
   "cell_type": "markdown",
   "metadata": {},
   "source": [
    "find the square root"
   ]
  },
  {
   "cell_type": "code",
   "execution_count": null,
   "metadata": {},
   "outputs": [
    {
     "name": "stdout",
     "output_type": "stream",
     "text": [
      "Square root of 4 is : 2\n"
     ]
    }
   ],
   "source": [
    "import math\n",
    "num = int(input('Enter the number to find the square eoot : '))\n",
    "sqrt_root = math.sqrt(num)\n",
    "print(f'Square root of {num} is : {int(sqrt_root)}')"
   ]
  },
  {
   "cell_type": "markdown",
   "metadata": {},
   "source": [
    "Calculate the Area of a Triangle"
   ]
  },
  {
   "cell_type": "code",
   "execution_count": 56,
   "metadata": {},
   "outputs": [
    {
     "name": "stdout",
     "output_type": "stream",
     "text": [
      "Area of triangle is : 2.0\n"
     ]
    }
   ],
   "source": [
    "triangle_base, triangle_height = input('Enter the height and base of the triangle : ').split()\n",
    "\n",
    "triangle_area = (1/2)* int(triangle_base)* int(triangle_height)\n",
    "\n",
    "print(f'Area of triangle is : {triangle_area}')\n"
   ]
  },
  {
   "cell_type": "markdown",
   "metadata": {},
   "source": [
    "Solve Quadratic Equation-\n",
    "Ax2 + Bx + C = 0"
   ]
  },
  {
   "cell_type": "code",
   "execution_count": 79,
   "metadata": {},
   "outputs": [
    {
     "name": "stdout",
     "output_type": "stream",
     "text": [
      "Roots of the quadratic equation 1x^2 + 5x = 6 = 0 is : (-3+0j) and (-2+0j)\n"
     ]
    }
   ],
   "source": [
    "import cmath\n",
    "a = int(input('Enter the coefficient of x^2'))\n",
    "b = int(input('Enter the coefficient of x'))\n",
    "c = int(input('Enter the value of constant c'))\n",
    "\n",
    "d = b**2 - 4*a*c\n",
    "\n",
    "root1 = (-b - cmath.sqrt(d)) / 2*a\n",
    "root2 = (-b + cmath.sqrt(d)) / 2*a\n",
    "\n",
    "print(f'Roots of the quadratic equation {a}x^2 + {b}x = {c} = 0 is : {root1} and {root2}')\n",
    "\n",
    "    "
   ]
  },
  {
   "cell_type": "markdown",
   "metadata": {},
   "source": [
    "Swap Two Variables"
   ]
  },
  {
   "cell_type": "code",
   "execution_count": 86,
   "metadata": {},
   "outputs": [
    {
     "name": "stdout",
     "output_type": "stream",
     "text": [
      "Value of x is 2 and value of y is 4\n",
      "New value of x is 4 and value of y is 2\n"
     ]
    }
   ],
   "source": [
    "x,y = input('Enter the value of x and y').split()\n",
    "print(f'Value of x is {x} and value of y is {y}')\n",
    "x, y = y, x\n",
    "print(f'New value of x is {x} and value of y is {y}')"
   ]
  },
  {
   "cell_type": "markdown",
   "metadata": {},
   "source": [
    "Generate a Random Number"
   ]
  },
  {
   "cell_type": "code",
   "execution_count": 124,
   "metadata": {},
   "outputs": [
    {
     "name": "stdout",
     "output_type": "stream",
     "text": [
      "Random number is 5\n"
     ]
    }
   ],
   "source": [
    "import random\n",
    "x = random.randrange(0,10)\n",
    "print(f'Random number is {x}')"
   ]
  },
  {
   "cell_type": "markdown",
   "metadata": {},
   "source": [
    "Convert Kilometers to Miles"
   ]
  },
  {
   "cell_type": "code",
   "execution_count": 128,
   "metadata": {},
   "outputs": [
    {
     "name": "stdout",
     "output_type": "stream",
     "text": [
      "Value of 10.0 km in meters is : 10000.0 meters\n"
     ]
    }
   ],
   "source": [
    "value_kilo = float(input(\"Enter the value in kilometer\"))\n",
    "print(f'Value of {value_kilo} km in meters is : {value_kilo*1000} meters')"
   ]
  },
  {
   "cell_type": "markdown",
   "metadata": {},
   "source": [
    "Convert Celsius To Fahrenheit\n",
    "(0°C × 9/5) + 32 = 32°F\n"
   ]
  },
  {
   "cell_type": "code",
   "execution_count": 8,
   "metadata": {},
   "outputs": [
    {
     "name": "stdout",
     "output_type": "stream",
     "text": [
      "Fahrenheit of 0 degree celsius is : 32.0 F\n"
     ]
    }
   ],
   "source": [
    "celsius = int(input('Enter the celsius'))\n",
    "print(f'Fahrenheit of {celsius} degree celsius is : {(celsius*9/5)+32} F')"
   ]
  },
  {
   "cell_type": "markdown",
   "metadata": {},
   "source": [
    "Check if a Number is Positive, Negative or 0\n"
   ]
  },
  {
   "cell_type": "code",
   "execution_count": 5,
   "metadata": {},
   "outputs": [
    {
     "name": "stdout",
     "output_type": "stream",
     "text": [
      "Number is negative \n"
     ]
    }
   ],
   "source": [
    "def num(n):\n",
    "    if n>0:\n",
    "        print('Number is positive')\n",
    "    elif n==0:\n",
    "        print('Number is equal to 0')\n",
    "    else:\n",
    "        print('Number is negative ')\n",
    "\n",
    "n = int(input('Enter the number to check'))\n",
    "num(n)"
   ]
  },
  {
   "cell_type": "markdown",
   "metadata": {},
   "source": [
    "Check Leap Year"
   ]
  },
  {
   "cell_type": "code",
   "execution_count": 24,
   "metadata": {},
   "outputs": [
    {
     "name": "stdout",
     "output_type": "stream",
     "text": [
      "Year 2012 is a leap year\n"
     ]
    }
   ],
   "source": [
    "def is_leap_yr(year):\n",
    "    if (year%400 == 0) and (year%100 == 0):\n",
    "        print(f'Year {year} is a leap year')\n",
    "    elif (year % 4 ==0) and (year % 100 != 0):\n",
    "        print(f'Year {year} is a leap year')\n",
    "    else:\n",
    "        print(f'Year {year} is not a leap year')\n",
    "    \n",
    "year = int(input(\"Enter the year to check if it is a leap year or not\"))\n",
    "is_leap_yr(year)\n",
    "\n",
    "        "
   ]
  },
  {
   "cell_type": "markdown",
   "metadata": {},
   "source": [
    "Find the Largest Among Three Numbers"
   ]
  },
  {
   "cell_type": "code",
   "execution_count": 27,
   "metadata": {},
   "outputs": [
    {
     "name": "stdout",
     "output_type": "stream",
     "text": [
      "4 is the largest among three numbers\n"
     ]
    }
   ],
   "source": [
    "def num(a ,b ,c ):\n",
    "    if a>b and a>c:\n",
    "        print(f'{a} is the largest among three numbers')\n",
    "    elif b>a and b>c:\n",
    "        print(f'{b} is the largest among three numbers')\n",
    "    else:\n",
    "        print(f'{c} is the largest among three numbers')\n",
    "        \n",
    "a, b, c = input('Enter the three numbers to find the largest among them : ').split()\n",
    "num(a, b, c)\n",
    "    "
   ]
  },
  {
   "cell_type": "markdown",
   "metadata": {},
   "source": [
    "Check Prime Number"
   ]
  },
  {
   "cell_type": "code",
   "execution_count": 30,
   "metadata": {},
   "outputs": [
    {
     "name": "stdout",
     "output_type": "stream",
     "text": [
      "32 is not prime\n"
     ]
    }
   ],
   "source": [
    "def is_prime(num):\n",
    "    flag = False\n",
    "    \n",
    "    if num == 1:\n",
    "        print(f'{num} is prime')\n",
    "    elif num>1:\n",
    "        for i in range(2, num):\n",
    "            if (num % i) == 0: #2 % 2 == 0 True\n",
    "                flag = True  # flag = True\n",
    "                \n",
    "                break\n",
    "\n",
    "        if flag:    # Ok\n",
    "            print(f'{num} is not prime')\n",
    "        else:\n",
    "            print(f'{num} is prime')\n",
    "     \n",
    "# num = input('Enter the number')\n",
    "is_prime(int(input('Enter the number')))"
   ]
  },
  {
   "cell_type": "markdown",
   "metadata": {},
   "source": [
    "* Check Armstrong Number\n",
    "* Find Armstrong Number in an Interval\n",
    "*  Display Powers of 2 Using Anonymous Function"
   ]
  },
  {
   "cell_type": "code",
   "execution_count": 33,
   "metadata": {},
   "outputs": [
    {
     "ename": "NameError",
     "evalue": "name 'num' is not defined",
     "output_type": "error",
     "traceback": [
      "\u001b[0;31m---------------------------------------------------------------------------\u001b[0m",
      "\u001b[0;31mNameError\u001b[0m                                 Traceback (most recent call last)",
      "Cell \u001b[0;32mIn[33], line 14\u001b[0m\n\u001b[1;32m     11\u001b[0m                 \u001b[38;5;28;01mif\u001b[39;00m (num \u001b[38;5;241m%\u001b[39m i) \u001b[38;5;241m==\u001b[39m \u001b[38;5;241m0\u001b[39m: \u001b[38;5;66;03m#2 % (2-1) == 0 False\u001b[39;00m\n\u001b[1;32m     12\u001b[0m                     lst\u001b[38;5;241m.\u001b[39mappend(i)  \u001b[38;5;66;03m# flag = True\u001b[39;00m\n\u001b[0;32m---> 14\u001b[0m     \u001b[43mis_prime\u001b[49m\u001b[43m(\u001b[49m\u001b[43mi\u001b[49m\u001b[43m)\u001b[49m\n\u001b[1;32m     17\u001b[0m \u001b[38;5;28mprint\u001b[39m(\u001b[38;5;124mf\u001b[39m\u001b[38;5;124m'\u001b[39m\u001b[38;5;124mList of prime numbers b/w \u001b[39m\u001b[38;5;132;01m{\u001b[39;00ma\u001b[38;5;132;01m}\u001b[39;00m\u001b[38;5;124m and \u001b[39m\u001b[38;5;132;01m{\u001b[39;00mb\u001b[38;5;132;01m}\u001b[39;00m\u001b[38;5;124m is : \u001b[39m\u001b[38;5;132;01m{\u001b[39;00mlst\u001b[38;5;132;01m}\u001b[39;00m\u001b[38;5;124m'\u001b[39m)\n",
      "Cell \u001b[0;32mIn[33], line 7\u001b[0m, in \u001b[0;36mis_prime\u001b[0;34m(i)\u001b[0m\n\u001b[1;32m      6\u001b[0m \u001b[38;5;28;01mdef\u001b[39;00m \u001b[38;5;21mis_prime\u001b[39m(i):\n\u001b[0;32m----> 7\u001b[0m     \u001b[38;5;28;01mif\u001b[39;00m \u001b[43mnum\u001b[49m \u001b[38;5;241m==\u001b[39m \u001b[38;5;241m1\u001b[39m:\n\u001b[1;32m      8\u001b[0m         \u001b[38;5;28mprint\u001b[39m(\u001b[38;5;124mf\u001b[39m\u001b[38;5;124m'\u001b[39m\u001b[38;5;132;01m{\u001b[39;00mnum\u001b[38;5;132;01m}\u001b[39;00m\u001b[38;5;124m is prime\u001b[39m\u001b[38;5;124m'\u001b[39m)\n\u001b[1;32m      9\u001b[0m     \u001b[38;5;28;01melif\u001b[39;00m num\u001b[38;5;241m>\u001b[39m\u001b[38;5;241m1\u001b[39m:\n",
      "\u001b[0;31mNameError\u001b[0m: name 'num' is not defined"
     ]
    }
   ],
   "source": [
    "a, b = input('Enter the range to traverse').split()\n",
    "lst = []\n",
    "not_prime_lst = []\n",
    "for i in range(int(a),int(b)):\n",
    "    \n",
    "    def is_prime(i):\n",
    "        if num == 1:\n",
    "            print(f'{num} is prime')\n",
    "        elif num>1:\n",
    "            for i in range(2, num):\n",
    "                if (num % i) == 0: #2 % (2-1) == 0 False\n",
    "                    lst.append(i)  # flag = True\n",
    "        \n",
    "    is_prime(i)\n",
    "\n",
    "    \n",
    "print(f'List of prime numbers b/w {a} and {b} is : {lst}')"
   ]
  },
  {
   "cell_type": "code",
   "execution_count": 24,
   "metadata": {},
   "outputs": [
    {
     "data": {
      "text/plain": [
       "0"
      ]
     },
     "execution_count": 24,
     "metadata": {},
     "output_type": "execute_result"
    }
   ],
   "source": [
    "2%2\n"
   ]
  },
  {
   "cell_type": "markdown",
   "metadata": {},
   "source": [
    "Find the Factorial of a Number"
   ]
  },
  {
   "cell_type": "code",
   "execution_count": 11,
   "metadata": {},
   "outputs": [
    {
     "name": "stdout",
     "output_type": "stream",
     "text": [
      "factorial of 5 is : 120\n"
     ]
    }
   ],
   "source": [
    "def fact(num):\n",
    "    factorial = 1\n",
    "    if num<0:\n",
    "        print(f'factorial does not exist for this number ')\n",
    "    elif num == 0:\n",
    "        print(f'factorial of {num} is 1')\n",
    "    else:\n",
    "        for i in range(1, num+1):\n",
    "            factorial = i* factorial\n",
    "        print(f'factorial of {num} is : {factorial}')\n",
    "        \n",
    "fact(int(input('Enter the number to calculate the factorial')))\n",
    "        \n"
   ]
  },
  {
   "cell_type": "markdown",
   "metadata": {},
   "source": [
    "Display the multiplication Table"
   ]
  },
  {
   "cell_type": "code",
   "execution_count": 4,
   "metadata": {},
   "outputs": [
    {
     "name": "stdout",
     "output_type": "stream",
     "text": [
      "table of 4 is : 4 X 1 = 4\n",
      "table of 4 is : 4 X 2 = 8\n",
      "table of 4 is : 4 X 3 = 12\n",
      "table of 4 is : 4 X 4 = 16\n",
      "table of 4 is : 4 X 5 = 20\n",
      "table of 4 is : 4 X 6 = 24\n",
      "table of 4 is : 4 X 7 = 28\n",
      "table of 4 is : 4 X 8 = 32\n",
      "table of 4 is : 4 X 9 = 36\n",
      "table of 4 is : 4 X 10 = 40\n"
     ]
    }
   ],
   "source": [
    "\n",
    "def table(num):\n",
    "    for i in range(1,11):\n",
    "        print(f'table of {num} is : {num} X {i} = {num*i}')\n",
    "        \n",
    "table(int(input('Enter the number')))"
   ]
  },
  {
   "cell_type": "markdown",
   "metadata": {},
   "source": [
    "Print the Fibonacci sequence"
   ]
  },
  {
   "cell_type": "code",
   "execution_count": 9,
   "metadata": {},
   "outputs": [
    {
     "name": "stdout",
     "output_type": "stream",
     "text": [
      "1 1 2 3 "
     ]
    }
   ],
   "source": [
    "def fibo(num):\n",
    "    first_num = 0\n",
    "    second_num = 1\n",
    "    count = 1\n",
    "    next_num = second_num\n",
    "    lst = []\n",
    "    while(count<=num):\n",
    "        next_num = first_num + second_num\n",
    "        first_num, second_num = second_num, next_num\n",
    "        count = count + 1\n",
    "        lst.append(first_num)\n",
    "        print(first_num, end= \" \")\n",
    "        \n",
    "fibo(int(input('Enter the number to find fibonacci series')))"
   ]
  },
  {
   "cell_type": "code",
   "execution_count": null,
   "metadata": {},
   "outputs": [],
   "source": [
    "def is_armstrong(num):\n",
    "    "
   ]
  },
  {
   "cell_type": "markdown",
   "metadata": {},
   "source": [
    "Find the Sum of Natural Numbers"
   ]
  },
  {
   "cell_type": "code",
   "execution_count": 6,
   "metadata": {},
   "outputs": [
    {
     "name": "stdout",
     "output_type": "stream",
     "text": [
      "1\n",
      "3\n",
      "6\n",
      "10\n",
      "10\n"
     ]
    }
   ],
   "source": [
    "def sum_natural(num):\n",
    "    count = 1\n",
    "    sum = 0\n",
    "    while(count<=num):\n",
    "        sum = sum + count\n",
    "        count += 1\n",
    "        print(sum)\n",
    "    print(sum)\n",
    "\n",
    "sum_natural(int(input('Enter the number ')))"
   ]
  },
  {
   "cell_type": "markdown",
   "metadata": {},
   "source": [
    "qDisplay Powers of 2 Using Anonymous Function"
   ]
  },
  {
   "cell_type": "code",
   "execution_count": null,
   "metadata": {},
   "outputs": [],
   "source": [
    "def anoonymous(num):\n",
    "    "
   ]
  },
  {
   "cell_type": "code",
   "execution_count": null,
   "metadata": {},
   "outputs": [],
   "source": []
  }
 ],
 "metadata": {
  "kernelspec": {
   "display_name": "env",
   "language": "python",
   "name": "python3"
  },
  "language_info": {
   "codemirror_mode": {
    "name": "ipython",
    "version": 3
   },
   "file_extension": ".py",
   "mimetype": "text/x-python",
   "name": "python",
   "nbconvert_exporter": "python",
   "pygments_lexer": "ipython3",
   "version": "3.11.4"
  }
 },
 "nbformat": 4,
 "nbformat_minor": 2
}
